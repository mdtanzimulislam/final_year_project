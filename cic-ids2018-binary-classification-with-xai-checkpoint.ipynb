{
 "cells": [
  {
   "cell_type": "markdown",
   "metadata": {},
   "source": [
    "# **Import Necessary Library**\n",
    "Commonly used libraries are imported here. Libraries for models may be imported when they will be used in their cell."
   ]
  },
  {
   "cell_type": "code",
   "execution_count": 1,
   "metadata": {
    "execution": {
     "iopub.execute_input": "2023-05-26T23:32:58.839366Z",
     "iopub.status.busy": "2023-05-26T23:32:58.835685Z",
     "iopub.status.idle": "2023-05-26T23:32:58.867906Z",
     "shell.execute_reply": "2023-05-26T23:32:58.866809Z",
     "shell.execute_reply.started": "2023-05-26T23:32:58.839236Z"
    }
   },
   "outputs": [
    {
     "ename": "AttributeError",
     "evalue": "module 'pandas.core.strings' has no attribute 'StringMethods'",
     "output_type": "error",
     "traceback": [
      "\u001b[1;31m---------------------------------------------------------------------------\u001b[0m",
      "\u001b[1;31mAttributeError\u001b[0m                            Traceback (most recent call last)",
      "\u001b[1;32m~\\AppData\\Local\\Temp\\ipykernel_5052\\461258930.py\u001b[0m in \u001b[0;36m<module>\u001b[1;34m\u001b[0m\n\u001b[0;32m     28\u001b[0m \u001b[1;32mfrom\u001b[0m \u001b[0msklearn\u001b[0m\u001b[1;33m.\u001b[0m\u001b[0mensemble\u001b[0m \u001b[1;32mimport\u001b[0m \u001b[0mExtraTreesClassifier\u001b[0m\u001b[1;33m\u001b[0m\u001b[1;33m\u001b[0m\u001b[0m\n\u001b[0;32m     29\u001b[0m \u001b[1;32mfrom\u001b[0m \u001b[0mxgboost\u001b[0m \u001b[1;32mimport\u001b[0m \u001b[0mXGBClassifier\u001b[0m\u001b[1;33m\u001b[0m\u001b[1;33m\u001b[0m\u001b[0m\n\u001b[1;32m---> 30\u001b[1;33m \u001b[1;32mfrom\u001b[0m \u001b[0mlightgbm\u001b[0m \u001b[1;32mimport\u001b[0m \u001b[0mLGBMClassifier\u001b[0m\u001b[1;33m\u001b[0m\u001b[1;33m\u001b[0m\u001b[0m\n\u001b[0m\u001b[0;32m     31\u001b[0m \u001b[1;32mfrom\u001b[0m \u001b[0mcatboost\u001b[0m \u001b[1;32mimport\u001b[0m \u001b[0mCatBoostClassifier\u001b[0m\u001b[1;33m\u001b[0m\u001b[1;33m\u001b[0m\u001b[0m\n\u001b[0;32m     32\u001b[0m \u001b[1;32mfrom\u001b[0m \u001b[0msklearn\u001b[0m\u001b[1;33m.\u001b[0m\u001b[0mensemble\u001b[0m \u001b[1;32mimport\u001b[0m \u001b[0mAdaBoostClassifier\u001b[0m\u001b[1;33m\u001b[0m\u001b[1;33m\u001b[0m\u001b[0m\n",
      "\u001b[1;32mS:\\Anaconda\\lib\\site-packages\\lightgbm\\__init__.py\u001b[0m in \u001b[0;36m<module>\u001b[1;34m\u001b[0m\n\u001b[0;32m      6\u001b[0m \u001b[1;32mfrom\u001b[0m \u001b[0mpathlib\u001b[0m \u001b[1;32mimport\u001b[0m \u001b[0mPath\u001b[0m\u001b[1;33m\u001b[0m\u001b[1;33m\u001b[0m\u001b[0m\n\u001b[0;32m      7\u001b[0m \u001b[1;33m\u001b[0m\u001b[0m\n\u001b[1;32m----> 8\u001b[1;33m \u001b[1;32mfrom\u001b[0m \u001b[1;33m.\u001b[0m\u001b[0mbasic\u001b[0m \u001b[1;32mimport\u001b[0m \u001b[0mBooster\u001b[0m\u001b[1;33m,\u001b[0m \u001b[0mDataset\u001b[0m\u001b[1;33m,\u001b[0m \u001b[0mSequence\u001b[0m\u001b[1;33m,\u001b[0m \u001b[0mregister_logger\u001b[0m\u001b[1;33m\u001b[0m\u001b[1;33m\u001b[0m\u001b[0m\n\u001b[0m\u001b[0;32m      9\u001b[0m \u001b[1;32mfrom\u001b[0m \u001b[1;33m.\u001b[0m\u001b[0mcallback\u001b[0m \u001b[1;32mimport\u001b[0m \u001b[0mearly_stopping\u001b[0m\u001b[1;33m,\u001b[0m \u001b[0mlog_evaluation\u001b[0m\u001b[1;33m,\u001b[0m \u001b[0mprint_evaluation\u001b[0m\u001b[1;33m,\u001b[0m \u001b[0mrecord_evaluation\u001b[0m\u001b[1;33m,\u001b[0m \u001b[0mreset_parameter\u001b[0m\u001b[1;33m\u001b[0m\u001b[1;33m\u001b[0m\u001b[0m\n\u001b[0;32m     10\u001b[0m \u001b[1;32mfrom\u001b[0m \u001b[1;33m.\u001b[0m\u001b[0mengine\u001b[0m \u001b[1;32mimport\u001b[0m \u001b[0mCVBooster\u001b[0m\u001b[1;33m,\u001b[0m \u001b[0mcv\u001b[0m\u001b[1;33m,\u001b[0m \u001b[0mtrain\u001b[0m\u001b[1;33m\u001b[0m\u001b[1;33m\u001b[0m\u001b[0m\n",
      "\u001b[1;32mS:\\Anaconda\\lib\\site-packages\\lightgbm\\basic.py\u001b[0m in \u001b[0;36m<module>\u001b[1;34m\u001b[0m\n\u001b[0;32m     18\u001b[0m \u001b[1;32mimport\u001b[0m \u001b[0mscipy\u001b[0m\u001b[1;33m.\u001b[0m\u001b[0msparse\u001b[0m\u001b[1;33m\u001b[0m\u001b[1;33m\u001b[0m\u001b[0m\n\u001b[0;32m     19\u001b[0m \u001b[1;33m\u001b[0m\u001b[0m\n\u001b[1;32m---> 20\u001b[1;33m \u001b[1;32mfrom\u001b[0m \u001b[1;33m.\u001b[0m\u001b[0mcompat\u001b[0m \u001b[1;32mimport\u001b[0m \u001b[0mPANDAS_INSTALLED\u001b[0m\u001b[1;33m,\u001b[0m \u001b[0mconcat\u001b[0m\u001b[1;33m,\u001b[0m \u001b[0mdt_DataTable\u001b[0m\u001b[1;33m,\u001b[0m \u001b[0mis_dtype_sparse\u001b[0m\u001b[1;33m,\u001b[0m \u001b[0mpd_DataFrame\u001b[0m\u001b[1;33m,\u001b[0m \u001b[0mpd_Series\u001b[0m\u001b[1;33m\u001b[0m\u001b[1;33m\u001b[0m\u001b[0m\n\u001b[0m\u001b[0;32m     21\u001b[0m \u001b[1;32mfrom\u001b[0m \u001b[1;33m.\u001b[0m\u001b[0mlibpath\u001b[0m \u001b[1;32mimport\u001b[0m \u001b[0mfind_lib_path\u001b[0m\u001b[1;33m\u001b[0m\u001b[1;33m\u001b[0m\u001b[0m\n\u001b[0;32m     22\u001b[0m \u001b[1;33m\u001b[0m\u001b[0m\n",
      "\u001b[1;32mS:\\Anaconda\\lib\\site-packages\\lightgbm\\compat.py\u001b[0m in \u001b[0;36m<module>\u001b[1;34m\u001b[0m\n\u001b[0;32m    128\u001b[0m     \u001b[1;32mfrom\u001b[0m \u001b[0mdask\u001b[0m\u001b[1;33m.\u001b[0m\u001b[0marray\u001b[0m \u001b[1;32mimport\u001b[0m \u001b[0mfrom_delayed\u001b[0m \u001b[1;32mas\u001b[0m \u001b[0mdask_array_from_delayed\u001b[0m\u001b[1;33m\u001b[0m\u001b[1;33m\u001b[0m\u001b[0m\n\u001b[0;32m    129\u001b[0m     \u001b[1;32mfrom\u001b[0m \u001b[0mdask\u001b[0m\u001b[1;33m.\u001b[0m\u001b[0mbag\u001b[0m \u001b[1;32mimport\u001b[0m \u001b[0mfrom_delayed\u001b[0m \u001b[1;32mas\u001b[0m \u001b[0mdask_bag_from_delayed\u001b[0m\u001b[1;33m\u001b[0m\u001b[1;33m\u001b[0m\u001b[0m\n\u001b[1;32m--> 130\u001b[1;33m     \u001b[1;32mfrom\u001b[0m \u001b[0mdask\u001b[0m\u001b[1;33m.\u001b[0m\u001b[0mdataframe\u001b[0m \u001b[1;32mimport\u001b[0m \u001b[0mDataFrame\u001b[0m \u001b[1;32mas\u001b[0m \u001b[0mdask_DataFrame\u001b[0m\u001b[1;33m\u001b[0m\u001b[1;33m\u001b[0m\u001b[0m\n\u001b[0m\u001b[0;32m    131\u001b[0m     \u001b[1;32mfrom\u001b[0m \u001b[0mdask\u001b[0m\u001b[1;33m.\u001b[0m\u001b[0mdataframe\u001b[0m \u001b[1;32mimport\u001b[0m \u001b[0mSeries\u001b[0m \u001b[1;32mas\u001b[0m \u001b[0mdask_Series\u001b[0m\u001b[1;33m\u001b[0m\u001b[1;33m\u001b[0m\u001b[0m\n\u001b[0;32m    132\u001b[0m     \u001b[1;32mfrom\u001b[0m \u001b[0mdask\u001b[0m\u001b[1;33m.\u001b[0m\u001b[0mdistributed\u001b[0m \u001b[1;32mimport\u001b[0m \u001b[0mClient\u001b[0m\u001b[1;33m,\u001b[0m \u001b[0mdefault_client\u001b[0m\u001b[1;33m,\u001b[0m \u001b[0mwait\u001b[0m\u001b[1;33m\u001b[0m\u001b[1;33m\u001b[0m\u001b[0m\n",
      "\u001b[1;32mS:\\Anaconda\\lib\\site-packages\\dask\\dataframe\\__init__.py\u001b[0m in \u001b[0;36m<module>\u001b[1;34m\u001b[0m\n\u001b[0;32m      2\u001b[0m     \u001b[1;32mimport\u001b[0m \u001b[0mdask\u001b[0m\u001b[1;33m.\u001b[0m\u001b[0mdataframe\u001b[0m\u001b[1;33m.\u001b[0m\u001b[0m_pyarrow_compat\u001b[0m\u001b[1;33m\u001b[0m\u001b[1;33m\u001b[0m\u001b[0m\n\u001b[0;32m      3\u001b[0m     \u001b[1;32mfrom\u001b[0m \u001b[0mdask\u001b[0m\u001b[1;33m.\u001b[0m\u001b[0mbase\u001b[0m \u001b[1;32mimport\u001b[0m \u001b[0mcompute\u001b[0m\u001b[1;33m\u001b[0m\u001b[1;33m\u001b[0m\u001b[0m\n\u001b[1;32m----> 4\u001b[1;33m     \u001b[1;32mfrom\u001b[0m \u001b[0mdask\u001b[0m\u001b[1;33m.\u001b[0m\u001b[0mdataframe\u001b[0m \u001b[1;32mimport\u001b[0m \u001b[0mbackends\u001b[0m\u001b[1;33m,\u001b[0m \u001b[0mdispatch\u001b[0m\u001b[1;33m,\u001b[0m \u001b[0mrolling\u001b[0m\u001b[1;33m\u001b[0m\u001b[1;33m\u001b[0m\u001b[0m\n\u001b[0m\u001b[0;32m      5\u001b[0m     from dask.dataframe.core import (\n\u001b[0;32m      6\u001b[0m         \u001b[0mDataFrame\u001b[0m\u001b[1;33m,\u001b[0m\u001b[1;33m\u001b[0m\u001b[1;33m\u001b[0m\u001b[0m\n",
      "\u001b[1;32mS:\\Anaconda\\lib\\site-packages\\dask\\dataframe\\backends.py\u001b[0m in \u001b[0;36m<module>\u001b[1;34m\u001b[0m\n\u001b[0;32m     18\u001b[0m \u001b[1;32mfrom\u001b[0m \u001b[0mdask\u001b[0m\u001b[1;33m.\u001b[0m\u001b[0marray\u001b[0m\u001b[1;33m.\u001b[0m\u001b[0mdispatch\u001b[0m \u001b[1;32mimport\u001b[0m \u001b[0mpercentile_lookup\u001b[0m\u001b[1;33m\u001b[0m\u001b[1;33m\u001b[0m\u001b[0m\n\u001b[0;32m     19\u001b[0m \u001b[1;32mfrom\u001b[0m \u001b[0mdask\u001b[0m\u001b[1;33m.\u001b[0m\u001b[0marray\u001b[0m\u001b[1;33m.\u001b[0m\u001b[0mpercentile\u001b[0m \u001b[1;32mimport\u001b[0m \u001b[0m_percentile\u001b[0m\u001b[1;33m\u001b[0m\u001b[1;33m\u001b[0m\u001b[0m\n\u001b[1;32m---> 20\u001b[1;33m \u001b[1;32mfrom\u001b[0m \u001b[0mdask\u001b[0m\u001b[1;33m.\u001b[0m\u001b[0mdataframe\u001b[0m\u001b[1;33m.\u001b[0m\u001b[0mcore\u001b[0m \u001b[1;32mimport\u001b[0m \u001b[0mDataFrame\u001b[0m\u001b[1;33m,\u001b[0m \u001b[0mIndex\u001b[0m\u001b[1;33m,\u001b[0m \u001b[0mScalar\u001b[0m\u001b[1;33m,\u001b[0m \u001b[0mSeries\u001b[0m\u001b[1;33m,\u001b[0m \u001b[0m_Frame\u001b[0m\u001b[1;33m\u001b[0m\u001b[1;33m\u001b[0m\u001b[0m\n\u001b[0m\u001b[0;32m     21\u001b[0m from dask.dataframe.dispatch import (\n\u001b[0;32m     22\u001b[0m     \u001b[0mcategorical_dtype_dispatch\u001b[0m\u001b[1;33m,\u001b[0m\u001b[1;33m\u001b[0m\u001b[1;33m\u001b[0m\u001b[0m\n",
      "\u001b[1;32mS:\\Anaconda\\lib\\site-packages\\dask\\dataframe\\core.py\u001b[0m in \u001b[0;36m<module>\u001b[1;34m\u001b[0m\n\u001b[0;32m     33\u001b[0m \u001b[1;32mfrom\u001b[0m \u001b[0mdask\u001b[0m\u001b[1;33m.\u001b[0m\u001b[0mblockwise\u001b[0m \u001b[1;32mimport\u001b[0m \u001b[0mBlockwise\u001b[0m\u001b[1;33m,\u001b[0m \u001b[0mBlockwiseDep\u001b[0m\u001b[1;33m,\u001b[0m \u001b[0mBlockwiseDepDict\u001b[0m\u001b[1;33m,\u001b[0m \u001b[0mblockwise\u001b[0m\u001b[1;33m\u001b[0m\u001b[1;33m\u001b[0m\u001b[0m\n\u001b[0;32m     34\u001b[0m \u001b[1;32mfrom\u001b[0m \u001b[0mdask\u001b[0m\u001b[1;33m.\u001b[0m\u001b[0mcontext\u001b[0m \u001b[1;32mimport\u001b[0m \u001b[0mglobalmethod\u001b[0m\u001b[1;33m\u001b[0m\u001b[1;33m\u001b[0m\u001b[0m\n\u001b[1;32m---> 35\u001b[1;33m \u001b[1;32mfrom\u001b[0m \u001b[0mdask\u001b[0m\u001b[1;33m.\u001b[0m\u001b[0mdataframe\u001b[0m \u001b[1;32mimport\u001b[0m \u001b[0mmethods\u001b[0m\u001b[1;33m\u001b[0m\u001b[1;33m\u001b[0m\u001b[0m\n\u001b[0m\u001b[0;32m     36\u001b[0m \u001b[1;32mfrom\u001b[0m \u001b[0mdask\u001b[0m\u001b[1;33m.\u001b[0m\u001b[0mdataframe\u001b[0m\u001b[1;33m.\u001b[0m\u001b[0m_compat\u001b[0m \u001b[1;32mimport\u001b[0m \u001b[0mPANDAS_GT_140\u001b[0m\u001b[1;33m,\u001b[0m \u001b[0mPANDAS_GT_150\u001b[0m\u001b[1;33m\u001b[0m\u001b[1;33m\u001b[0m\u001b[0m\n\u001b[0;32m     37\u001b[0m \u001b[1;32mfrom\u001b[0m \u001b[0mdask\u001b[0m\u001b[1;33m.\u001b[0m\u001b[0mdataframe\u001b[0m\u001b[1;33m.\u001b[0m\u001b[0maccessor\u001b[0m \u001b[1;32mimport\u001b[0m \u001b[0mCachedAccessor\u001b[0m\u001b[1;33m,\u001b[0m \u001b[0mDatetimeAccessor\u001b[0m\u001b[1;33m,\u001b[0m \u001b[0mStringAccessor\u001b[0m\u001b[1;33m\u001b[0m\u001b[1;33m\u001b[0m\u001b[0m\n",
      "\u001b[1;32mS:\\Anaconda\\lib\\site-packages\\dask\\dataframe\\methods.py\u001b[0m in \u001b[0;36m<module>\u001b[1;34m\u001b[0m\n\u001b[0;32m     20\u001b[0m     \u001b[0munion_categoricals\u001b[0m\u001b[1;33m,\u001b[0m\u001b[1;33m\u001b[0m\u001b[1;33m\u001b[0m\u001b[0m\n\u001b[0;32m     21\u001b[0m )\n\u001b[1;32m---> 22\u001b[1;33m \u001b[1;32mfrom\u001b[0m \u001b[0mdask\u001b[0m\u001b[1;33m.\u001b[0m\u001b[0mdataframe\u001b[0m\u001b[1;33m.\u001b[0m\u001b[0mutils\u001b[0m \u001b[1;32mimport\u001b[0m \u001b[0mis_dataframe_like\u001b[0m\u001b[1;33m,\u001b[0m \u001b[0mis_index_like\u001b[0m\u001b[1;33m,\u001b[0m \u001b[0mis_series_like\u001b[0m\u001b[1;33m\u001b[0m\u001b[1;33m\u001b[0m\u001b[0m\n\u001b[0m\u001b[0;32m     23\u001b[0m \u001b[1;33m\u001b[0m\u001b[0m\n\u001b[0;32m     24\u001b[0m \u001b[1;31m# cuDF may try to import old dispatch functions\u001b[0m\u001b[1;33m\u001b[0m\u001b[1;33m\u001b[0m\u001b[0m\n",
      "\u001b[1;32mS:\\Anaconda\\lib\\site-packages\\dask\\dataframe\\utils.py\u001b[0m in \u001b[0;36m<module>\u001b[1;34m\u001b[0m\n\u001b[0;32m     16\u001b[0m \u001b[1;32mfrom\u001b[0m \u001b[0mdask\u001b[0m\u001b[1;33m.\u001b[0m\u001b[0mbase\u001b[0m \u001b[1;32mimport\u001b[0m \u001b[0mget_scheduler\u001b[0m\u001b[1;33m,\u001b[0m \u001b[0mis_dask_collection\u001b[0m\u001b[1;33m\u001b[0m\u001b[1;33m\u001b[0m\u001b[0m\n\u001b[0;32m     17\u001b[0m \u001b[1;32mfrom\u001b[0m \u001b[0mdask\u001b[0m\u001b[1;33m.\u001b[0m\u001b[0mcore\u001b[0m \u001b[1;32mimport\u001b[0m \u001b[0mget_deps\u001b[0m\u001b[1;33m\u001b[0m\u001b[1;33m\u001b[0m\u001b[0m\n\u001b[1;32m---> 18\u001b[1;33m from dask.dataframe import (  # noqa: F401 register pandas extension types\n\u001b[0m\u001b[0;32m     19\u001b[0m     \u001b[0m_dtypes\u001b[0m\u001b[1;33m,\u001b[0m\u001b[1;33m\u001b[0m\u001b[1;33m\u001b[0m\u001b[0m\n\u001b[0;32m     20\u001b[0m     \u001b[0mmethods\u001b[0m\u001b[1;33m,\u001b[0m\u001b[1;33m\u001b[0m\u001b[1;33m\u001b[0m\u001b[0m\n",
      "\u001b[1;32mS:\\Anaconda\\lib\\site-packages\\dask\\dataframe\\_dtypes.py\u001b[0m in \u001b[0;36m<module>\u001b[1;34m\u001b[0m\n\u001b[0;32m      1\u001b[0m \u001b[1;32mimport\u001b[0m \u001b[0mpandas\u001b[0m \u001b[1;32mas\u001b[0m \u001b[0mpd\u001b[0m\u001b[1;33m\u001b[0m\u001b[1;33m\u001b[0m\u001b[0m\n\u001b[0;32m      2\u001b[0m \u001b[1;33m\u001b[0m\u001b[0m\n\u001b[1;32m----> 3\u001b[1;33m \u001b[1;32mfrom\u001b[0m \u001b[0mdask\u001b[0m\u001b[1;33m.\u001b[0m\u001b[0mdataframe\u001b[0m\u001b[1;33m.\u001b[0m\u001b[0mextensions\u001b[0m \u001b[1;32mimport\u001b[0m \u001b[0mmake_array_nonempty\u001b[0m\u001b[1;33m,\u001b[0m \u001b[0mmake_scalar\u001b[0m\u001b[1;33m\u001b[0m\u001b[1;33m\u001b[0m\u001b[0m\n\u001b[0m\u001b[0;32m      4\u001b[0m \u001b[1;33m\u001b[0m\u001b[0m\n\u001b[0;32m      5\u001b[0m \u001b[1;33m\u001b[0m\u001b[0m\n",
      "\u001b[1;32mS:\\Anaconda\\lib\\site-packages\\dask\\dataframe\\extensions.py\u001b[0m in \u001b[0;36m<module>\u001b[1;34m\u001b[0m\n\u001b[0;32m      4\u001b[0m \u001b[0mSee\u001b[0m \u001b[1;33m:\u001b[0m\u001b[0mref\u001b[0m\u001b[1;33m:\u001b[0m\u001b[0;31m`\u001b[0m\u001b[0mextensionarrays\u001b[0m\u001b[0;31m`\u001b[0m \u001b[1;32mfor\u001b[0m \u001b[0mmore\u001b[0m\u001b[1;33m.\u001b[0m\u001b[1;33m\u001b[0m\u001b[1;33m\u001b[0m\u001b[0m\n\u001b[0;32m      5\u001b[0m \"\"\"\n\u001b[1;32m----> 6\u001b[1;33m from dask.dataframe.accessor import (\n\u001b[0m\u001b[0;32m      7\u001b[0m     \u001b[0mregister_dataframe_accessor\u001b[0m\u001b[1;33m,\u001b[0m\u001b[1;33m\u001b[0m\u001b[1;33m\u001b[0m\u001b[0m\n\u001b[0;32m      8\u001b[0m     \u001b[0mregister_index_accessor\u001b[0m\u001b[1;33m,\u001b[0m\u001b[1;33m\u001b[0m\u001b[1;33m\u001b[0m\u001b[0m\n",
      "\u001b[1;32mS:\\Anaconda\\lib\\site-packages\\dask\\dataframe\\accessor.py\u001b[0m in \u001b[0;36m<module>\u001b[1;34m\u001b[0m\n\u001b[0;32m    188\u001b[0m \u001b[1;33m\u001b[0m\u001b[0m\n\u001b[0;32m    189\u001b[0m \u001b[1;33m\u001b[0m\u001b[0m\n\u001b[1;32m--> 190\u001b[1;33m \u001b[1;32mclass\u001b[0m \u001b[0mStringAccessor\u001b[0m\u001b[1;33m(\u001b[0m\u001b[0mAccessor\u001b[0m\u001b[1;33m)\u001b[0m\u001b[1;33m:\u001b[0m\u001b[1;33m\u001b[0m\u001b[1;33m\u001b[0m\u001b[0m\n\u001b[0m\u001b[0;32m    191\u001b[0m     \"\"\"Accessor object for string properties of the Series values.\n\u001b[0;32m    192\u001b[0m \u001b[1;33m\u001b[0m\u001b[0m\n",
      "\u001b[1;32mS:\\Anaconda\\lib\\site-packages\\dask\\dataframe\\accessor.py\u001b[0m in \u001b[0;36mStringAccessor\u001b[1;34m()\u001b[0m\n\u001b[0;32m    274\u001b[0m \u001b[1;33m\u001b[0m\u001b[0m\n\u001b[0;32m    275\u001b[0m     @derived_from(\n\u001b[1;32m--> 276\u001b[1;33m         \u001b[0mpd\u001b[0m\u001b[1;33m.\u001b[0m\u001b[0mcore\u001b[0m\u001b[1;33m.\u001b[0m\u001b[0mstrings\u001b[0m\u001b[1;33m.\u001b[0m\u001b[0mStringMethods\u001b[0m\u001b[1;33m,\u001b[0m\u001b[1;33m\u001b[0m\u001b[1;33m\u001b[0m\u001b[0m\n\u001b[0m\u001b[0;32m    277\u001b[0m         \u001b[0minconsistencies\u001b[0m\u001b[1;33m=\u001b[0m\u001b[1;34m\"``expand=True`` with unknown ``n`` will raise a ``NotImplementedError``\"\u001b[0m\u001b[1;33m,\u001b[0m\u001b[1;33m\u001b[0m\u001b[1;33m\u001b[0m\u001b[0m\n\u001b[0;32m    278\u001b[0m     )\n",
      "\u001b[1;31mAttributeError\u001b[0m: module 'pandas.core.strings' has no attribute 'StringMethods'"
     ]
    }
   ],
   "source": [
    "import numpy as np\n",
    "import pandas as pd\n",
    "import os, re, time, math, tqdm, itertools\n",
    "import matplotlib.pyplot as plt\n",
    "import matplotlib.patches as patches\n",
    "import plotly.express as px\n",
    "import plotly.offline as pyo\n",
    "import seaborn as sns\n",
    "\n",
    "from imblearn.over_sampling import RandomOverSampler\n",
    "from imblearn.over_sampling import SMOTE\n",
    "\n",
    "from sklearn.preprocessing import StandardScaler\n",
    "from sklearn.preprocessing import MinMaxScaler\n",
    "from sklearn.preprocessing import RobustScaler\n",
    "\n",
    "from sklearn.feature_selection import RFECV\n",
    "from sklearn.model_selection import StratifiedKFold\n",
    "from sklearn.feature_selection import SequentialFeatureSelector\n",
    "\n",
    "from sklearn.model_selection import train_test_split\n",
    "from sklearn.model_selection import KFold\n",
    "\n",
    "from sklearn import tree\n",
    "from sklearn.tree import DecisionTreeClassifier\n",
    "from sklearn.tree import ExtraTreeClassifier\n",
    "from sklearn.ensemble import RandomForestClassifier\n",
    "from sklearn.ensemble import ExtraTreesClassifier\n",
    "from xgboost import XGBClassifier\n",
    "from lightgbm import LGBMClassifier\n",
    "from catboost import CatBoostClassifier\n",
    "from sklearn.ensemble import AdaBoostClassifier\n",
    "from sklearn.neighbors import KNeighborsClassifier\n",
    "from sklearn.naive_bayes import GaussianNB\n",
    "from sklearn.svm import SVC\n",
    "from sklearn.neural_network import MLPClassifier\n",
    "\n",
    "from sklearn.model_selection import cross_val_score\n",
    "from sklearn.model_selection import cross_val_predict\n",
    "from sklearn.metrics import accuracy_score, precision_score, recall_score, f1_score\n",
    "from sklearn.metrics import classification_report\n",
    "from sklearn.metrics import confusion_matrix\n",
    "from sklearn.metrics import roc_auc_score\n",
    "\n",
    "# !pip install interpret\n",
    "# from interpret.blackbox import LimeTabular\n",
    "# from interpret import show\n",
    "\n",
    "import lime\n",
    "import lime.lime_tabular\n",
    "from lime.lime_tabular import LimeTabularExplainer\n",
    "import graphviz\n",
    "import shap\n",
    "\n",
    "import pickle\n"
   ]
  },
  {
   "cell_type": "markdown",
   "metadata": {},
   "source": [
    "# **Load Dataset**"
   ]
  },
  {
   "cell_type": "code",
   "execution_count": null,
   "metadata": {
    "execution": {
     "iopub.execute_input": "2023-05-26T20:00:39.373886Z",
     "iopub.status.busy": "2023-05-26T20:00:39.373375Z",
     "iopub.status.idle": "2023-05-26T20:00:39.405079Z",
     "shell.execute_reply": "2023-05-26T20:00:39.403849Z",
     "shell.execute_reply.started": "2023-05-26T20:00:39.373833Z"
    }
   },
   "outputs": [],
   "source": [
    "# for dirname, _, filenames in os.walk('/kaggle/input/ids-intrusion-csv'):\n",
    "#     for filename in filenames:\n",
    "#         print(os.path.join(dirname, filename))"
   ]
  },
  {
   "cell_type": "markdown",
   "metadata": {},
   "source": [
    "# **Read Dataset**"
   ]
  },
  {
   "cell_type": "code",
   "execution_count": null,
   "metadata": {
    "execution": {
     "iopub.execute_input": "2023-05-26T20:00:39.408244Z",
     "iopub.status.busy": "2023-05-26T20:00:39.406979Z",
     "iopub.status.idle": "2023-05-26T20:00:59.345818Z",
     "shell.execute_reply": "2023-05-26T20:00:59.343451Z",
     "shell.execute_reply.started": "2023-05-26T20:00:39.408175Z"
    }
   },
   "outputs": [],
   "source": [
    "%%time\n",
    "network_data_d1 = pd.read_csv(\"02-14-2018.csv\", low_memory=False)"
   ]
  },
  {
   "cell_type": "markdown",
   "metadata": {},
   "source": [
    "# **EDA**"
   ]
  },
  {
   "cell_type": "markdown",
   "metadata": {},
   "source": [
    "## **Data Properties**"
   ]
  },
  {
   "cell_type": "code",
   "execution_count": null,
   "metadata": {
    "execution": {
     "iopub.execute_input": "2023-05-26T20:00:59.348163Z",
     "iopub.status.busy": "2023-05-26T20:00:59.347231Z",
     "iopub.status.idle": "2023-05-26T20:00:59.356362Z",
     "shell.execute_reply": "2023-05-26T20:00:59.354972Z",
     "shell.execute_reply.started": "2023-05-26T20:00:59.348124Z"
    }
   },
   "outputs": [],
   "source": [
    "network_data_d1.shape\n",
    "print ('Number of rows (Samples): ' , network_data_d1.shape[0])\n",
    "print ('Number of columns (Features): ' , network_data_d1.shape[1])"
   ]
  },
  {
   "cell_type": "code",
   "execution_count": null,
   "metadata": {
    "execution": {
     "iopub.execute_input": "2023-05-26T20:00:59.360341Z",
     "iopub.status.busy": "2023-05-26T20:00:59.359488Z",
     "iopub.status.idle": "2023-05-26T20:00:59.842249Z",
     "shell.execute_reply": "2023-05-26T20:00:59.841009Z",
     "shell.execute_reply.started": "2023-05-26T20:00:59.360289Z"
    }
   },
   "outputs": [],
   "source": [
    "network_data_d1"
   ]
  },
  {
   "cell_type": "code",
   "execution_count": null,
   "metadata": {
    "execution": {
     "iopub.execute_input": "2023-05-26T20:00:59.843788Z",
     "iopub.status.busy": "2023-05-26T20:00:59.843452Z",
     "iopub.status.idle": "2023-05-26T20:01:00.692207Z",
     "shell.execute_reply": "2023-05-26T20:01:00.690934Z",
     "shell.execute_reply.started": "2023-05-26T20:00:59.843761Z"
    }
   },
   "outputs": [],
   "source": [
    "network_data_d1.info()"
   ]
  },
  {
   "cell_type": "code",
   "execution_count": null,
   "metadata": {
    "execution": {
     "iopub.execute_input": "2023-05-26T20:01:00.694032Z",
     "iopub.status.busy": "2023-05-26T20:01:00.693633Z",
     "iopub.status.idle": "2023-05-26T20:01:00.834613Z",
     "shell.execute_reply": "2023-05-26T20:01:00.833434Z",
     "shell.execute_reply.started": "2023-05-26T20:01:00.694000Z"
    }
   },
   "outputs": [],
   "source": [
    "network_data_d1['Label'].value_counts()"
   ]
  },
  {
   "cell_type": "markdown",
   "metadata": {},
   "source": [
    "## **Data Visualizations**"
   ]
  },
  {
   "cell_type": "markdown",
   "metadata": {},
   "source": [
    "### **Bar Chart**"
   ]
  },
  {
   "cell_type": "code",
   "execution_count": null,
   "metadata": {
    "execution": {
     "iopub.execute_input": "2023-05-26T20:01:00.836856Z",
     "iopub.status.busy": "2023-05-26T20:01:00.836382Z",
     "iopub.status.idle": "2023-05-26T20:01:01.258541Z",
     "shell.execute_reply": "2023-05-26T20:01:01.257153Z",
     "shell.execute_reply.started": "2023-05-26T20:01:00.836822Z"
    }
   },
   "outputs": [],
   "source": [
    "# bar chart of packets label\n",
    "plt.figure(figsize=(5, 5))\n",
    "plt.title('Packet Distribution')\n",
    "plt.bar(x=['Benign', 'FTP-BruteForce', 'SSH-Bruteforce'], height=network_data_d1['Label'].value_counts(), color=['blue', 'magenta', 'cyan'])\n",
    "p = plt.gcf()"
   ]
  },
  {
   "cell_type": "markdown",
   "metadata": {},
   "source": [
    "### **Pie Chart**"
   ]
  },
  {
   "cell_type": "code",
   "execution_count": null,
   "metadata": {
    "execution": {
     "iopub.execute_input": "2023-05-26T20:01:01.260644Z",
     "iopub.status.busy": "2023-05-26T20:01:01.260163Z",
     "iopub.status.idle": "2023-05-26T20:01:01.567994Z",
     "shell.execute_reply": "2023-05-26T20:01:01.565814Z",
     "shell.execute_reply.started": "2023-05-26T20:01:01.260601Z"
    }
   },
   "outputs": [],
   "source": [
    "# pie chart of packets label\n",
    "plt.figure(figsize=(5, 5))\n",
    "circle = plt.Circle((0, 0), 0.7, color='white')\n",
    "plt.title('Packet Distribution')\n",
    "plt.pie(network_data_d1['Label'].value_counts(), labels=['Benign', 'FTP-BruteForce', 'SSH-Bruteforce'], colors=['blue', 'magenta', 'cyan'])\n",
    "p = plt.gcf()\n",
    "p.gca().add_artist(circle)"
   ]
  },
  {
   "cell_type": "markdown",
   "metadata": {},
   "source": [
    "## **Data Preprocessing**"
   ]
  },
  {
   "cell_type": "markdown",
   "metadata": {},
   "source": [
    "### **Temporarily Hold Data**\n",
    "This helps to code while manupulating the data. If something unexpected operation happend on data, strat a run from this cell is enough. Don't have to run full notebook."
   ]
  },
  {
   "cell_type": "code",
   "execution_count": null,
   "metadata": {
    "execution": {
     "iopub.execute_input": "2023-05-26T20:01:01.572080Z",
     "iopub.status.busy": "2023-05-26T20:01:01.570797Z",
     "iopub.status.idle": "2023-05-26T20:01:01.579401Z",
     "shell.execute_reply": "2023-05-26T20:01:01.577664Z",
     "shell.execute_reply.started": "2023-05-26T20:01:01.572004Z"
    }
   },
   "outputs": [],
   "source": [
    "# while working comment one line and uncomment another as needed\n",
    "temp_network_data_d1 = network_data_d1\n",
    "#network_data_d1 = temp_network_data_d1"
   ]
  },
  {
   "cell_type": "markdown",
   "metadata": {},
   "source": [
    "### **Drop Infinate and Null**"
   ]
  },
  {
   "cell_type": "code",
   "execution_count": null,
   "metadata": {
    "execution": {
     "iopub.execute_input": "2023-05-26T20:01:01.591463Z",
     "iopub.status.busy": "2023-05-26T20:01:01.590197Z",
     "iopub.status.idle": "2023-05-26T20:01:05.542610Z",
     "shell.execute_reply": "2023-05-26T20:01:05.541513Z",
     "shell.execute_reply.started": "2023-05-26T20:01:01.591398Z"
    }
   },
   "outputs": [],
   "source": [
    "print (network_data_d1.shape)\n",
    "\n",
    "# replace infinity value as null value\n",
    "network_data_d1 = network_data_d1.replace([\"Infinity\", \"infinity\"], np.inf)\n",
    "network_data_d1 = network_data_d1.replace([np.inf, -np.inf], np.nan)\n",
    "\n",
    "# drop all null values\n",
    "network_data_d1.dropna(inplace=True)\n",
    "\n",
    "print (network_data_d1.shape)"
   ]
  },
  {
   "cell_type": "markdown",
   "metadata": {},
   "source": [
    "### **Drop Unnecessary Column**"
   ]
  },
  {
   "cell_type": "code",
   "execution_count": null,
   "metadata": {
    "execution": {
     "iopub.execute_input": "2023-05-26T20:01:05.544486Z",
     "iopub.status.busy": "2023-05-26T20:01:05.544155Z",
     "iopub.status.idle": "2023-05-26T20:01:05.774191Z",
     "shell.execute_reply": "2023-05-26T20:01:05.772884Z",
     "shell.execute_reply.started": "2023-05-26T20:01:05.544459Z"
    }
   },
   "outputs": [],
   "source": [
    "network_data_d1.drop(columns=\"Timestamp\", inplace=True)\n",
    "print (network_data_d1.shape)"
   ]
  },
  {
   "cell_type": "markdown",
   "metadata": {},
   "source": [
    "### **Transform Target Label into Binary Class**"
   ]
  },
  {
   "cell_type": "code",
   "execution_count": null,
   "metadata": {
    "execution": {
     "iopub.execute_input": "2023-05-26T20:01:05.776597Z",
     "iopub.status.busy": "2023-05-26T20:01:05.776154Z",
     "iopub.status.idle": "2023-05-26T20:01:06.203523Z",
     "shell.execute_reply": "2023-05-26T20:01:06.202072Z",
     "shell.execute_reply.started": "2023-05-26T20:01:05.776556Z"
    }
   },
   "outputs": [],
   "source": [
    "%%time\n",
    "# encode the target feature\n",
    "network_data_d1['Label'] = network_data_d1['Label'].apply(lambda x: \"Benign\" if x == 'Benign' else \"Malicious\")\n",
    "print(network_data_d1['Label'].unique())"
   ]
  },
  {
   "cell_type": "code",
   "execution_count": null,
   "metadata": {
    "execution": {
     "iopub.execute_input": "2023-05-26T20:01:06.205451Z",
     "iopub.status.busy": "2023-05-26T20:01:06.205049Z",
     "iopub.status.idle": "2023-05-26T20:01:06.345029Z",
     "shell.execute_reply": "2023-05-26T20:01:06.343805Z",
     "shell.execute_reply.started": "2023-05-26T20:01:06.205421Z"
    }
   },
   "outputs": [],
   "source": [
    "network_data_d1['Label'].value_counts()"
   ]
  },
  {
   "cell_type": "markdown",
   "metadata": {},
   "source": [
    "### **Data Balancing**"
   ]
  },
  {
   "cell_type": "code",
   "execution_count": null,
   "metadata": {
    "execution": {
     "iopub.execute_input": "2023-05-26T20:01:06.347156Z",
     "iopub.status.busy": "2023-05-26T20:01:06.346687Z",
     "iopub.status.idle": "2023-05-26T20:01:06.566290Z",
     "shell.execute_reply": "2023-05-26T20:01:06.564848Z",
     "shell.execute_reply.started": "2023-05-26T20:01:06.347124Z"
    }
   },
   "outputs": [],
   "source": [
    "# split data into features and target\n",
    "X=network_data_d1.drop([\"Label\"], axis=1)\n",
    "y=network_data_d1[\"Label\"]"
   ]
  },
  {
   "cell_type": "markdown",
   "metadata": {},
   "source": [
    "#### **Oversampling**"
   ]
  },
  {
   "cell_type": "code",
   "execution_count": null,
   "metadata": {
    "execution": {
     "iopub.execute_input": "2023-05-26T20:01:06.571245Z",
     "iopub.status.busy": "2023-05-26T20:01:06.567759Z",
     "iopub.status.idle": "2023-05-26T20:01:15.485000Z",
     "shell.execute_reply": "2023-05-26T20:01:15.483468Z",
     "shell.execute_reply.started": "2023-05-26T20:01:06.571189Z"
    }
   },
   "outputs": [],
   "source": [
    "%%time\n",
    "# applying oversampling\n",
    "ros = RandomOverSampler()\n",
    "X_balanced, y_balanced = ros.fit_resample(X, y)"
   ]
  },
  {
   "cell_type": "markdown",
   "metadata": {},
   "source": [
    "#### **SMOTE**"
   ]
  },
  {
   "cell_type": "code",
   "execution_count": null,
   "metadata": {
    "execution": {
     "iopub.execute_input": "2023-05-26T20:01:15.486675Z",
     "iopub.status.busy": "2023-05-26T20:01:15.486346Z",
     "iopub.status.idle": "2023-05-26T20:01:15.493829Z",
     "shell.execute_reply": "2023-05-26T20:01:15.492263Z",
     "shell.execute_reply.started": "2023-05-26T20:01:15.486649Z"
    }
   },
   "outputs": [],
   "source": [
    "%%time\n",
    "# # applying SMOTE\n",
    "# smote = SMOTE(random_state=42)\n",
    "# X_balanced, y_balanced = smote.fit_resample(X, y)"
   ]
  },
  {
   "cell_type": "code",
   "execution_count": null,
   "metadata": {
    "execution": {
     "iopub.execute_input": "2023-05-26T20:01:15.495909Z",
     "iopub.status.busy": "2023-05-26T20:01:15.495525Z",
     "iopub.status.idle": "2023-05-26T20:01:16.044274Z",
     "shell.execute_reply": "2023-05-26T20:01:16.042889Z",
     "shell.execute_reply.started": "2023-05-26T20:01:15.495877Z"
    }
   },
   "outputs": [],
   "source": [
    "network_data_d1 = pd.concat([X_balanced, y_balanced], axis=1)\n",
    "print (network_data_d1.shape)\n",
    "print(network_data_d1['Label'].value_counts())"
   ]
  },
  {
   "cell_type": "markdown",
   "metadata": {},
   "source": [
    "### **Data Normalization**"
   ]
  },
  {
   "cell_type": "code",
   "execution_count": null,
   "metadata": {
    "execution": {
     "iopub.execute_input": "2023-05-26T20:01:16.048704Z",
     "iopub.status.busy": "2023-05-26T20:01:16.048326Z",
     "iopub.status.idle": "2023-05-26T20:01:16.986209Z",
     "shell.execute_reply": "2023-05-26T20:01:16.984880Z",
     "shell.execute_reply.started": "2023-05-26T20:01:16.048673Z"
    }
   },
   "outputs": [],
   "source": [
    "# list numeric columns\n",
    "numeric_cols = network_data_d1.select_dtypes(include=[np.number]).columns.tolist()\n",
    "print(numeric_cols)"
   ]
  },
  {
   "cell_type": "markdown",
   "metadata": {},
   "source": [
    "#### **Z Score**"
   ]
  },
  {
   "cell_type": "code",
   "execution_count": null,
   "metadata": {
    "execution": {
     "iopub.execute_input": "2023-05-26T20:01:16.988214Z",
     "iopub.status.busy": "2023-05-26T20:01:16.987870Z",
     "iopub.status.idle": "2023-05-26T20:01:16.994580Z",
     "shell.execute_reply": "2023-05-26T20:01:16.993273Z",
     "shell.execute_reply.started": "2023-05-26T20:01:16.988186Z"
    }
   },
   "outputs": [],
   "source": [
    "%%time\n",
    "# apply z-score normalization\n",
    "# std = StandardScaler()\n",
    "# network_data_d1[numeric_cols] = std.fit_transform(network_data_d1[numeric_cols])"
   ]
  },
  {
   "cell_type": "markdown",
   "metadata": {},
   "source": [
    "#### **Min Max**"
   ]
  },
  {
   "cell_type": "code",
   "execution_count": null,
   "metadata": {
    "execution": {
     "iopub.execute_input": "2023-05-26T20:01:16.996639Z",
     "iopub.status.busy": "2023-05-26T20:01:16.996267Z",
     "iopub.status.idle": "2023-05-26T20:01:17.009017Z",
     "shell.execute_reply": "2023-05-26T20:01:17.007579Z",
     "shell.execute_reply.started": "2023-05-26T20:01:16.996608Z"
    }
   },
   "outputs": [],
   "source": [
    "%%time\n",
    "# apply min-max normalization\n",
    "# mnmx = MinMaxScaler()\n",
    "# network_data_d1[numeric_cols] = mnmx.fit_transform(network_data_d1[numeric_cols])"
   ]
  },
  {
   "cell_type": "markdown",
   "metadata": {},
   "source": [
    "#### **Robust**"
   ]
  },
  {
   "cell_type": "code",
   "execution_count": null,
   "metadata": {
    "execution": {
     "iopub.execute_input": "2023-05-26T20:01:17.011219Z",
     "iopub.status.busy": "2023-05-26T20:01:17.010762Z",
     "iopub.status.idle": "2023-05-26T20:01:27.731764Z",
     "shell.execute_reply": "2023-05-26T20:01:27.730554Z",
     "shell.execute_reply.started": "2023-05-26T20:01:17.011179Z"
    }
   },
   "outputs": [],
   "source": [
    "%%time\n",
    "# apply robust normalization\n",
    "rbst = RobustScaler()\n",
    "network_data_d1[numeric_cols] = rbst.fit_transform(network_data_d1[numeric_cols])"
   ]
  },
  {
   "cell_type": "code",
   "execution_count": null,
   "metadata": {
    "execution": {
     "iopub.execute_input": "2023-05-26T20:01:27.733523Z",
     "iopub.status.busy": "2023-05-26T20:01:27.733188Z",
     "iopub.status.idle": "2023-05-26T20:01:28.552304Z",
     "shell.execute_reply": "2023-05-26T20:01:28.551075Z",
     "shell.execute_reply.started": "2023-05-26T20:01:27.733495Z"
    }
   },
   "outputs": [],
   "source": [
    "network_data_d1"
   ]
  },
  {
   "cell_type": "markdown",
   "metadata": {},
   "source": [
    "## **Feature Selection**"
   ]
  },
  {
   "cell_type": "markdown",
   "metadata": {},
   "source": [
    "### **Drop Constant Column**"
   ]
  },
  {
   "cell_type": "code",
   "execution_count": null,
   "metadata": {
    "execution": {
     "iopub.execute_input": "2023-05-26T20:01:28.554558Z",
     "iopub.status.busy": "2023-05-26T20:01:28.553809Z",
     "iopub.status.idle": "2023-05-26T20:01:29.886465Z",
     "shell.execute_reply": "2023-05-26T20:01:29.885228Z",
     "shell.execute_reply.started": "2023-05-26T20:01:28.554510Z"
    }
   },
   "outputs": [],
   "source": [
    "# drop the constant columns (which varience is 0)\n",
    "variances = network_data_d1.var(numeric_only=True)\n",
    "constant_columns = variances[variances == 0].index\n",
    "network_data_d1 = network_data_d1.drop(constant_columns, axis=1)\n",
    "\n",
    "print (network_data_d1.shape)"
   ]
  },
  {
   "cell_type": "markdown",
   "metadata": {},
   "source": [
    "### **Check and Drop Duplicate Column**"
   ]
  },
  {
   "cell_type": "code",
   "execution_count": null,
   "metadata": {
    "execution": {
     "iopub.execute_input": "2023-05-26T20:01:29.888809Z",
     "iopub.status.busy": "2023-05-26T20:01:29.888048Z",
     "iopub.status.idle": "2023-05-26T20:01:40.030276Z",
     "shell.execute_reply": "2023-05-26T20:01:40.029018Z",
     "shell.execute_reply.started": "2023-05-26T20:01:29.888770Z"
    }
   },
   "outputs": [],
   "source": [
    "duplicates = set()\n",
    "for i in range(0, len(network_data_d1.columns)):\n",
    "    col1 = network_data_d1.columns[i]\n",
    "    for j in range(i+1, len(network_data_d1.columns)):\n",
    "        col2 = network_data_d1.columns[j]\n",
    "        if(network_data_d1[col1].equals(network_data_d1[col2])):\n",
    "            duplicates.add(col2)\n",
    "\n",
    "print (duplicates)\n",
    "network_data_d1.drop(duplicates, axis=1, inplace=True)\n",
    "print (network_data_d1.shape)"
   ]
  },
  {
   "cell_type": "markdown",
   "metadata": {},
   "source": [
    "### **Encode Target Label**"
   ]
  },
  {
   "cell_type": "code",
   "execution_count": null,
   "metadata": {
    "execution": {
     "iopub.execute_input": "2023-05-26T20:01:40.032077Z",
     "iopub.status.busy": "2023-05-26T20:01:40.031683Z",
     "iopub.status.idle": "2023-05-26T20:01:41.005405Z",
     "shell.execute_reply": "2023-05-26T20:01:41.004233Z",
     "shell.execute_reply.started": "2023-05-26T20:01:40.032047Z"
    }
   },
   "outputs": [],
   "source": [
    "# encode the target feature\n",
    "network_data_d1['Label'] = network_data_d1['Label'].apply(lambda x: 0 if x == 'Benign' else 1)\n",
    "print(network_data_d1['Label'].unique())"
   ]
  },
  {
   "cell_type": "markdown",
   "metadata": {},
   "source": [
    "### **Drop Column Based on Correlations**"
   ]
  },
  {
   "cell_type": "markdown",
   "metadata": {},
   "source": [
    "#### **Correlations of Data**"
   ]
  },
  {
   "cell_type": "code",
   "execution_count": null,
   "metadata": {
    "execution": {
     "iopub.execute_input": "2023-05-26T20:01:41.006858Z",
     "iopub.status.busy": "2023-05-26T20:01:41.006485Z",
     "iopub.status.idle": "2023-05-26T20:02:07.852144Z",
     "shell.execute_reply": "2023-05-26T20:02:07.851109Z",
     "shell.execute_reply.started": "2023-05-26T20:01:41.006825Z"
    }
   },
   "outputs": [],
   "source": [
    "# pearson correlation heatmap\n",
    "plt.figure(figsize=(70, 70))\n",
    "corr = network_data_d1.corr(numeric_only=True)\n",
    "sns.heatmap(corr, annot=True, cmap='RdBu', vmin=-1, vmax=1, square=True) # annot=True\n",
    "plt.show()"
   ]
  },
  {
   "cell_type": "markdown",
   "metadata": {},
   "source": [
    "#### **Drop Columns**"
   ]
  },
  {
   "cell_type": "code",
   "execution_count": null,
   "metadata": {
    "execution": {
     "iopub.execute_input": "2023-05-26T20:02:07.854574Z",
     "iopub.status.busy": "2023-05-26T20:02:07.853453Z",
     "iopub.status.idle": "2023-05-26T20:02:07.940468Z",
     "shell.execute_reply": "2023-05-26T20:02:07.939348Z",
     "shell.execute_reply.started": "2023-05-26T20:02:07.854531Z"
    }
   },
   "outputs": [],
   "source": [
    "correlated_col = set()\n",
    "is_correlated = [True] * len(corr.columns)\n",
    "threshold = 0.85\n",
    "for i in range (len(corr.columns)):\n",
    "    if(is_correlated[i]):\n",
    "        for j in range(i):\n",
    "          if (corr.iloc[i, j] >= threshold) and (is_correlated[j]):\n",
    "            colname = corr.columns[j]\n",
    "            is_correlated[j]=False\n",
    "            correlated_col.add(colname)\n",
    "\n",
    "print(correlated_col)\n",
    "print(len(correlated_col))"
   ]
  },
  {
   "cell_type": "code",
   "execution_count": null,
   "metadata": {
    "execution": {
     "iopub.execute_input": "2023-05-26T20:02:07.949013Z",
     "iopub.status.busy": "2023-05-26T20:02:07.948605Z",
     "iopub.status.idle": "2023-05-26T20:02:08.079034Z",
     "shell.execute_reply": "2023-05-26T20:02:08.077893Z",
     "shell.execute_reply.started": "2023-05-26T20:02:07.948982Z"
    }
   },
   "outputs": [],
   "source": [
    "network_data_d1.drop(correlated_col, axis=1, inplace=True)\n",
    "print (network_data_d1.shape)"
   ]
  },
  {
   "cell_type": "markdown",
   "metadata": {},
   "source": [
    "#### **Correlations of Data**"
   ]
  },
  {
   "cell_type": "code",
   "execution_count": null,
   "metadata": {
    "execution": {
     "iopub.execute_input": "2023-05-26T20:02:08.081176Z",
     "iopub.status.busy": "2023-05-26T20:02:08.080608Z",
     "iopub.status.idle": "2023-05-26T20:02:17.697839Z",
     "shell.execute_reply": "2023-05-26T20:02:17.696698Z",
     "shell.execute_reply.started": "2023-05-26T20:02:08.081144Z"
    }
   },
   "outputs": [],
   "source": [
    "# pearson correlation heatmap\n",
    "plt.figure(figsize=(70, 70))\n",
    "corr = network_data_d1.corr(numeric_only=True)\n",
    "sns.heatmap(corr, annot=True, cmap='RdBu', vmin=-1, vmax=1, square=True) # annot=True\n",
    "plt.show()"
   ]
  },
  {
   "cell_type": "markdown",
   "metadata": {},
   "source": [
    "### **Recursive Feature Elimination (RFE) with Cross-Vlidation**"
   ]
  },
  {
   "cell_type": "code",
   "execution_count": null,
   "metadata": {
    "execution": {
     "iopub.execute_input": "2023-05-26T20:02:17.700128Z",
     "iopub.status.busy": "2023-05-26T20:02:17.699326Z",
     "iopub.status.idle": "2023-05-26T20:02:17.704607Z",
     "shell.execute_reply": "2023-05-26T20:02:17.703328Z",
     "shell.execute_reply.started": "2023-05-26T20:02:17.700095Z"
    }
   },
   "outputs": [],
   "source": [
    "# # split data into features and target\n",
    "# X=network_data_d1.drop([\"Label\"], axis=1)\n",
    "# y=network_data_d1[\"Label\"]"
   ]
  },
  {
   "cell_type": "code",
   "execution_count": null,
   "metadata": {
    "execution": {
     "iopub.execute_input": "2023-05-26T20:02:17.706749Z",
     "iopub.status.busy": "2023-05-26T20:02:17.706302Z",
     "iopub.status.idle": "2023-05-26T20:02:17.719052Z",
     "shell.execute_reply": "2023-05-26T20:02:17.718035Z",
     "shell.execute_reply.started": "2023-05-26T20:02:17.706701Z"
    }
   },
   "outputs": [],
   "source": [
    "# %%time\n",
    "# # applying RFE with CV\n",
    "# dt = DecisionTreeClassifier()\n",
    "# cv = StratifiedKFold(5)\n",
    "# min_features = 1\n",
    "\n",
    "# rfecv = RFECV(estimator=dt, step=1, cv=cv, scoring=\"accuracy\", min_features_to_select=min_features, n_jobs=2)\n",
    "# rfecv.fit(X, y)"
   ]
  },
  {
   "cell_type": "code",
   "execution_count": null,
   "metadata": {
    "execution": {
     "iopub.execute_input": "2023-05-26T20:02:17.720862Z",
     "iopub.status.busy": "2023-05-26T20:02:17.720445Z",
     "iopub.status.idle": "2023-05-26T20:02:17.731852Z",
     "shell.execute_reply": "2023-05-26T20:02:17.730317Z",
     "shell.execute_reply.started": "2023-05-26T20:02:17.720832Z"
    }
   },
   "outputs": [],
   "source": [
    "# num_selected_features = rfecv.n_features_\n",
    "# selected_features = X.columns[rfecv.support_]\n",
    "# print(num_selected_features)\n",
    "# print(selected_features)"
   ]
  },
  {
   "cell_type": "code",
   "execution_count": null,
   "metadata": {
    "_kg_hide-output": true,
    "execution": {
     "iopub.execute_input": "2023-05-26T20:02:17.733788Z",
     "iopub.status.busy": "2023-05-26T20:02:17.733416Z",
     "iopub.status.idle": "2023-05-26T20:02:17.747160Z",
     "shell.execute_reply": "2023-05-26T20:02:17.745775Z",
     "shell.execute_reply.started": "2023-05-26T20:02:17.733757Z"
    }
   },
   "outputs": [],
   "source": [
    "# network_data_d1 = network_data_d1.loc[:, selected_features]\n",
    "# network_data_d1"
   ]
  },
  {
   "cell_type": "code",
   "execution_count": null,
   "metadata": {
    "execution": {
     "iopub.execute_input": "2023-05-26T20:02:17.749597Z",
     "iopub.status.busy": "2023-05-26T20:02:17.749138Z",
     "iopub.status.idle": "2023-05-26T20:02:17.760530Z",
     "shell.execute_reply": "2023-05-26T20:02:17.759497Z",
     "shell.execute_reply.started": "2023-05-26T20:02:17.749554Z"
    }
   },
   "outputs": [],
   "source": [
    "# # presenting number of feature vs accuracy\n",
    "# num_scores = len(rfecv.cv_results_[\"mean_test_score\"])\n",
    "# plt.figure()\n",
    "# plt.xlabel(\"Number of Selected Features\")\n",
    "# plt.ylabel(\"Mean Test Accuracy\")\n",
    "# plt.errorbar(\n",
    "#     range(min_features, num_scores + min_features),\n",
    "#     rfecv.cv_results_[\"mean_test_score\"],\n",
    "#     yerr=rfecv.cv_results_[\"std_test_score\"],\n",
    "# )\n",
    "# plt.title(\"Recursive Feature Elimination\")\n",
    "# plt.show()"
   ]
  },
  {
   "cell_type": "markdown",
   "metadata": {},
   "source": [
    "### **Sequential Feature Selection**"
   ]
  },
  {
   "cell_type": "code",
   "execution_count": null,
   "metadata": {
    "execution": {
     "iopub.execute_input": "2023-05-26T20:02:17.762651Z",
     "iopub.status.busy": "2023-05-26T20:02:17.762264Z",
     "iopub.status.idle": "2023-05-26T20:02:17.773698Z",
     "shell.execute_reply": "2023-05-26T20:02:17.772510Z",
     "shell.execute_reply.started": "2023-05-26T20:02:17.762623Z"
    }
   },
   "outputs": [],
   "source": [
    "# # split data into features and target\n",
    "# X=network_data_d1.drop([\"Label\"], axis=1)\n",
    "# y=network_data_d1[\"Label\"]"
   ]
  },
  {
   "cell_type": "markdown",
   "metadata": {},
   "source": [
    "#### **Forward Feature Selection**"
   ]
  },
  {
   "cell_type": "code",
   "execution_count": null,
   "metadata": {
    "execution": {
     "iopub.execute_input": "2023-05-26T20:02:17.776291Z",
     "iopub.status.busy": "2023-05-26T20:02:17.775194Z",
     "iopub.status.idle": "2023-05-26T20:02:17.786149Z",
     "shell.execute_reply": "2023-05-26T20:02:17.784837Z",
     "shell.execute_reply.started": "2023-05-26T20:02:17.776227Z"
    }
   },
   "outputs": [],
   "source": [
    "# %%time\n",
    "# # applying forward feature selection\n",
    "# dt = DecisionTreeClassifier()\n",
    "# sfs_forward = SequentialFeatureSelector(\n",
    "#     dt, n_features_to_select=35, direction=\"forward\"\n",
    "# ).fit(X, y)"
   ]
  },
  {
   "cell_type": "code",
   "execution_count": null,
   "metadata": {
    "execution": {
     "iopub.execute_input": "2023-05-26T20:02:17.788109Z",
     "iopub.status.busy": "2023-05-26T20:02:17.787536Z",
     "iopub.status.idle": "2023-05-26T20:02:17.803764Z",
     "shell.execute_reply": "2023-05-26T20:02:17.802576Z",
     "shell.execute_reply.started": "2023-05-26T20:02:17.788074Z"
    }
   },
   "outputs": [],
   "source": [
    "# selected_features = X.columns[sfs_forward.get_support()]\n",
    "# print(selected_features)"
   ]
  },
  {
   "cell_type": "markdown",
   "metadata": {},
   "source": [
    "#### **Backward Feature Selection**"
   ]
  },
  {
   "cell_type": "code",
   "execution_count": null,
   "metadata": {
    "execution": {
     "iopub.execute_input": "2023-05-26T20:02:17.805467Z",
     "iopub.status.busy": "2023-05-26T20:02:17.805122Z",
     "iopub.status.idle": "2023-05-26T20:02:17.816225Z",
     "shell.execute_reply": "2023-05-26T20:02:17.815066Z",
     "shell.execute_reply.started": "2023-05-26T20:02:17.805438Z"
    }
   },
   "outputs": [],
   "source": [
    "# %%time\n",
    "# # applying backward feature selection\n",
    "# dt = DecisionTreeClassifier()\n",
    "# sfs_backward = SequentialFeatureSelector(\n",
    "#     dt, n_features_to_select=35, direction=\"backward\"\n",
    "# ).fit(X, y)"
   ]
  },
  {
   "cell_type": "code",
   "execution_count": null,
   "metadata": {
    "execution": {
     "iopub.execute_input": "2023-05-26T20:02:17.818063Z",
     "iopub.status.busy": "2023-05-26T20:02:17.817695Z",
     "iopub.status.idle": "2023-05-26T20:02:17.830106Z",
     "shell.execute_reply": "2023-05-26T20:02:17.828897Z",
     "shell.execute_reply.started": "2023-05-26T20:02:17.818033Z"
    }
   },
   "outputs": [],
   "source": [
    "# selected_features = X.columns[sfs_backward.get_support()]\n",
    "# print(selected_features)"
   ]
  },
  {
   "cell_type": "code",
   "execution_count": null,
   "metadata": {
    "execution": {
     "iopub.execute_input": "2023-05-26T20:02:17.832301Z",
     "iopub.status.busy": "2023-05-26T20:02:17.831593Z",
     "iopub.status.idle": "2023-05-26T20:02:17.844558Z",
     "shell.execute_reply": "2023-05-26T20:02:17.843139Z",
     "shell.execute_reply.started": "2023-05-26T20:02:17.832267Z"
    }
   },
   "outputs": [],
   "source": [
    "# network_data_d1 = network_data_d1.loc[:, selected_features] # add target lebel\n",
    "# network_data_d1"
   ]
  },
  {
   "cell_type": "markdown",
   "metadata": {},
   "source": [
    "# **Classification**\n",
    "Here many algoritms will be used to classify the data."
   ]
  },
  {
   "cell_type": "markdown",
   "metadata": {},
   "source": [
    "### **Split Data**"
   ]
  },
  {
   "cell_type": "code",
   "execution_count": null,
   "metadata": {
    "execution": {
     "iopub.execute_input": "2023-05-26T20:02:17.846415Z",
     "iopub.status.busy": "2023-05-26T20:02:17.846058Z",
     "iopub.status.idle": "2023-05-26T20:02:18.053138Z",
     "shell.execute_reply": "2023-05-26T20:02:18.051994Z",
     "shell.execute_reply.started": "2023-05-26T20:02:17.846384Z"
    }
   },
   "outputs": [],
   "source": [
    "X=network_data_d1.drop([\"Label\"], axis=1)\n",
    "y=network_data_d1[\"Label\"]\n",
    "\n",
    "# split the data for evaluation\n",
    "# X_train, X_test, y_train, y_test = train_test_split(X, y, test_size=.2, random_state =42, shuffle=True)\n",
    "\n",
    "# K-fold\n",
    "kf = KFold(n_splits=10, shuffle=True, random_state=42)"
   ]
  },
  {
   "cell_type": "markdown",
   "metadata": {},
   "source": [
    "### **Confusion Metrix HeatMap**"
   ]
  },
  {
   "cell_type": "code",
   "execution_count": null,
   "metadata": {
    "execution": {
     "iopub.execute_input": "2023-05-26T20:02:18.056363Z",
     "iopub.status.busy": "2023-05-26T20:02:18.056026Z",
     "iopub.status.idle": "2023-05-26T20:02:18.069392Z",
     "shell.execute_reply": "2023-05-26T20:02:18.068293Z",
     "shell.execute_reply.started": "2023-05-26T20:02:18.056336Z"
    }
   },
   "outputs": [],
   "source": [
    "def confusionMatrixHeatMap(cm, title):\n",
    "    # box lebels\n",
    "    group_counts = [\"{0:0.0f}\\n\".format(value) for value in cm.flatten()]\n",
    "    group_percentages = [\"{0:.2%}\".format(value) for value in cm.flatten()/np.sum(cm)]\n",
    "    box_labels = [f\"{v1}{v2}\".strip() for v1, v2 in zip(group_counts,group_percentages)]\n",
    "    box_labels = np.asarray(box_labels).reshape(cm.shape[0],cm.shape[1])\n",
    "\n",
    "    # categories\n",
    "    categories = ['Benign', 'Malicious']\n",
    "\n",
    "    # create a heatmap of the confusion matrix\n",
    "    sns.heatmap(cm, annot=box_labels, fmt='', cmap='Blues', cbar=False, xticklabels=categories, yticklabels=categories)\n",
    "\n",
    "    # create and add rectangle patch\n",
    "    ax = plt.gca()\n",
    "    rect = patches.Rectangle((0, 0), len(cm[0]), len(cm), linewidth=2, edgecolor='black', facecolor='none')\n",
    "    ax.add_patch(rect)\n",
    "\n",
    "    # set labels, title, and axis ticks\n",
    "    plt.xlabel('Predicted Label')\n",
    "    plt.ylabel('True Label')\n",
    "    title_font = { 'fontsize': 16, 'fontname': 'Times New Roman' }\n",
    "#     plt.title('Decision Tree\\n', **title_font)\n",
    "    plt.title(title + '\\n', **title_font)\n",
    "\n",
    "    # calculate accuracy and misclassification rate\n",
    "    total_samples = len(y)\n",
    "    correct_predictions = sum(y == y_pred)\n",
    "    incorrect_predictions = total_samples - correct_predictions\n",
    "    accuracy = correct_predictions / total_samples\n",
    "    misclassification_rate = incorrect_predictions / total_samples\n",
    "\n",
    "    # add accuracy and misclassification rate to the heatmap\n",
    "    plt.text(0.5, -0.1, f'\\n\\n\\nAccuracy: {accuracy:.2f}', ha='center', va='center', transform=plt.gca().transAxes)\n",
    "    plt.text(0.5, -0.2, f'\\nMisclassification Rate: {misclassification_rate:.4f}', ha='center', va='center', transform=plt.gca().transAxes)\n",
    "\n",
    "    # Show the plot\n",
    "    plt.show()"
   ]
  },
  {
   "cell_type": "markdown",
   "metadata": {},
   "source": [
    "## **LazyClassifier**"
   ]
  },
  {
   "cell_type": "code",
   "execution_count": null,
   "metadata": {
    "execution": {
     "iopub.execute_input": "2023-05-26T20:02:18.071776Z",
     "iopub.status.busy": "2023-05-26T20:02:18.070836Z",
     "iopub.status.idle": "2023-05-26T20:02:18.087550Z",
     "shell.execute_reply": "2023-05-26T20:02:18.086446Z",
     "shell.execute_reply.started": "2023-05-26T20:02:18.071735Z"
    }
   },
   "outputs": [],
   "source": [
    "# LazyClassifier\n",
    "# clf = LazyClassifier(verbose = 0,\n",
    "#                      ignore_warnings = True,\n",
    "#                      custom_metric = None,\n",
    "#                      predictions = False,\n",
    "#                      random_state = 12,\n",
    "#                      classifiers = 'all')\n",
    "\n",
    "# models, predictions = clf.fit(X_train, X_test, y_train, y_test)\n",
    "# models"
   ]
  },
  {
   "cell_type": "markdown",
   "metadata": {},
   "source": [
    "## **Decision Tree**"
   ]
  },
  {
   "cell_type": "code",
   "execution_count": null,
   "metadata": {
    "execution": {
     "iopub.execute_input": "2023-05-26T22:11:21.252044Z",
     "iopub.status.busy": "2023-05-26T22:11:21.251549Z",
     "iopub.status.idle": "2023-05-26T22:12:15.767291Z",
     "shell.execute_reply": "2023-05-26T22:12:15.765765Z",
     "shell.execute_reply.started": "2023-05-26T22:11:21.252009Z"
    }
   },
   "outputs": [],
   "source": [
    "%%time\n",
    "# create a Decision Tree model\n",
    "dt = DecisionTreeClassifier()\n",
    "\n",
    "# predict\n",
    "y_pred = cross_val_predict(dt, X, y, cv=kf)\n",
    "\n",
    "\n",
    "print (\"Dicision Tree\")\n",
    "# generate report\n",
    "cm=confusion_matrix(y, y_pred)\n",
    "cr=classification_report(y, y_pred)\n",
    "auc = roc_auc_score(y, y_pred)\n",
    "\n",
    "print(\"Confusion Matrix:\")\n",
    "print(cm)\n",
    "\n",
    "print(\"Performance Matrix:\")\n",
    "print(cr)\n",
    "\n",
    "print(\"AUC:\", auc)\n",
    "\n",
    "confusionMatrixHeatMap(cm, title=\"Decision Tree\")"
   ]
  },
  {
   "cell_type": "markdown",
   "metadata": {},
   "source": [
    "## **Extra Tree**"
   ]
  },
  {
   "cell_type": "code",
   "execution_count": null,
   "metadata": {
    "execution": {
     "iopub.execute_input": "2023-05-26T20:03:11.696807Z",
     "iopub.status.busy": "2023-05-26T20:03:11.695501Z",
     "iopub.status.idle": "2023-05-26T20:03:11.701175Z",
     "shell.execute_reply": "2023-05-26T20:03:11.700182Z",
     "shell.execute_reply.started": "2023-05-26T20:03:11.696767Z"
    }
   },
   "outputs": [],
   "source": [
    "# %%time\n",
    "# # create a Extra Trees model\n",
    "# et = ExtraTreeClassifier()\n",
    "\n",
    "# # predict\n",
    "# y_pred = cross_val_predict(et, X, y, cv=kf)\n",
    "\n",
    "# print (\"Extra Tree\")\n",
    "# # generate report\n",
    "# cm=confusion_matrix(y, y_pred)\n",
    "# cr=classification_report(y, y_pred)\n",
    "\n",
    "# print(\"Confusion Matrix:\")\n",
    "# print(cm)\n",
    "\n",
    "# print(\"Performance Matrix:\")\n",
    "# print(cr)"
   ]
  },
  {
   "cell_type": "markdown",
   "metadata": {},
   "source": [
    "## **Random Forest**"
   ]
  },
  {
   "cell_type": "code",
   "execution_count": null,
   "metadata": {
    "execution": {
     "iopub.execute_input": "2023-05-26T20:03:11.703362Z",
     "iopub.status.busy": "2023-05-26T20:03:11.702413Z",
     "iopub.status.idle": "2023-05-26T20:03:11.716886Z",
     "shell.execute_reply": "2023-05-26T20:03:11.715808Z",
     "shell.execute_reply.started": "2023-05-26T20:03:11.703329Z"
    }
   },
   "outputs": [],
   "source": [
    "# %%time\n",
    "# # create a Random Forest model\n",
    "# rf = RandomForestClassifier()\n",
    "\n",
    "# # predict\n",
    "# y_pred = cross_val_predict(rf, X, y, cv=kf)\n",
    "\n",
    "# print (\"Random Forest\")\n",
    "# # generate report\n",
    "# cm=confusion_matrix(y, y_pred)\n",
    "# cr=classification_report(y, y_pred)\n",
    "\n",
    "# print(\"Confusion Matrix:\")\n",
    "# print(cm)\n",
    "\n",
    "# print(\"Performance Matrix:\")\n",
    "# print(cr)"
   ]
  },
  {
   "cell_type": "markdown",
   "metadata": {},
   "source": [
    "## **Extra Trees**"
   ]
  },
  {
   "cell_type": "code",
   "execution_count": null,
   "metadata": {
    "execution": {
     "iopub.execute_input": "2023-05-26T20:03:11.719543Z",
     "iopub.status.busy": "2023-05-26T20:03:11.718363Z",
     "iopub.status.idle": "2023-05-26T20:03:11.730872Z",
     "shell.execute_reply": "2023-05-26T20:03:11.729785Z",
     "shell.execute_reply.started": "2023-05-26T20:03:11.719495Z"
    }
   },
   "outputs": [],
   "source": [
    "# %%time\n",
    "# # create a Extra Trees model\n",
    "# ett = ExtraTreesClassifier()\n",
    "\n",
    "# # predict\n",
    "# y_pred = cross_val_predict(ett, X, y, cv=kf)\n",
    "\n",
    "# print (\"Extra Trees\")\n",
    "# # generate report\n",
    "# print(\"Confusion Matrix:\")\n",
    "# print(confusion_matrix(y, y_pred))\n",
    "\n",
    "# print(\"Performance Matrix:\")\n",
    "# print(classification_report(y, y_pred))"
   ]
  },
  {
   "cell_type": "markdown",
   "metadata": {},
   "source": [
    "## **Light Gradient Boosting Machine (LightGBM)**"
   ]
  },
  {
   "cell_type": "code",
   "execution_count": null,
   "metadata": {
    "execution": {
     "iopub.execute_input": "2023-05-26T20:03:11.733474Z",
     "iopub.status.busy": "2023-05-26T20:03:11.732978Z",
     "iopub.status.idle": "2023-05-26T20:03:11.746008Z",
     "shell.execute_reply": "2023-05-26T20:03:11.745025Z",
     "shell.execute_reply.started": "2023-05-26T20:03:11.733434Z"
    }
   },
   "outputs": [],
   "source": [
    "# %%time\n",
    "# # create a LightGBM model\n",
    "# lgb = LGBMClassifier()\n",
    "\n",
    "# # predict\n",
    "# y_pred = cross_val_predict(lgb, X, y, cv=kf)\n",
    "\n",
    "# print (\"LightGBM\")\n",
    "# # generate report\n",
    "# print(\"Confusion Matrix:\")\n",
    "# print(confusion_matrix(y, y_pred))\n",
    "\n",
    "# print(\"Performance Matrix:\")\n",
    "# print(classification_report(y, y_pred))"
   ]
  },
  {
   "cell_type": "markdown",
   "metadata": {},
   "source": [
    "## **eXtreme Gradient Boosting (XGBoost)**"
   ]
  },
  {
   "cell_type": "code",
   "execution_count": null,
   "metadata": {
    "execution": {
     "iopub.execute_input": "2023-05-26T20:03:11.749008Z",
     "iopub.status.busy": "2023-05-26T20:03:11.748147Z",
     "iopub.status.idle": "2023-05-26T20:03:11.764775Z",
     "shell.execute_reply": "2023-05-26T20:03:11.763762Z",
     "shell.execute_reply.started": "2023-05-26T20:03:11.748954Z"
    }
   },
   "outputs": [],
   "source": [
    "# %%time\n",
    "# # create a XGBoost model\n",
    "# xgb = XGBClassifier()\n",
    "\n",
    "# # predict\n",
    "# y_pred = cross_val_predict(xgb, X, y, cv=kf)\n",
    "\n",
    "# print (\"XGBoost\")\n",
    "# # generate report\n",
    "# print(\"Confusion Matrix:\")\n",
    "# print(confusion_matrix(y, y_pred))\n",
    "\n",
    "# print(\"Performance Matrix:\")\n",
    "# print(classification_report(y, y_pred))"
   ]
  },
  {
   "cell_type": "markdown",
   "metadata": {},
   "source": [
    "## **Cat Boost**"
   ]
  },
  {
   "cell_type": "code",
   "execution_count": null,
   "metadata": {
    "execution": {
     "iopub.execute_input": "2023-05-26T20:03:11.766968Z",
     "iopub.status.busy": "2023-05-26T20:03:11.766312Z",
     "iopub.status.idle": "2023-05-26T20:03:11.775702Z",
     "shell.execute_reply": "2023-05-26T20:03:11.774767Z",
     "shell.execute_reply.started": "2023-05-26T20:03:11.766938Z"
    }
   },
   "outputs": [],
   "source": [
    "# %%time\n",
    "# # create a Cat Boost model\n",
    "# cb = CatBoostClassifier()\n",
    "\n",
    "# # predict\n",
    "# y_pred = cross_val_predict(cb, X, y, cv=kf)\n",
    "\n",
    "# print (\"Cat Boost\")\n",
    "# # generate report\n",
    "# print(\"Confusion Matrix:\")\n",
    "# print(confusion_matrix(y, y_pred))\n",
    "\n",
    "# print(\"Performance Matrix:\")\n",
    "# print(classification_report(y, y_pred))"
   ]
  },
  {
   "cell_type": "markdown",
   "metadata": {},
   "source": [
    "## **Ada Boost**"
   ]
  },
  {
   "cell_type": "code",
   "execution_count": null,
   "metadata": {
    "execution": {
     "iopub.execute_input": "2023-05-26T20:03:11.778747Z",
     "iopub.status.busy": "2023-05-26T20:03:11.778268Z",
     "iopub.status.idle": "2023-05-26T20:03:11.789612Z",
     "shell.execute_reply": "2023-05-26T20:03:11.788298Z",
     "shell.execute_reply.started": "2023-05-26T20:03:11.778686Z"
    }
   },
   "outputs": [],
   "source": [
    "# %%time\n",
    "# # create a Ada Boost model\n",
    "# ada = AdaBoostClassifier()\n",
    "\n",
    "# # predict\n",
    "# y_pred = cross_val_predict(ada, X, y, cv=kf)\n",
    "\n",
    "# print (\"Ada Boost\")\n",
    "# # generate report\n",
    "# print(\"Confusion Matrix:\")\n",
    "# print(confusion_matrix(y, y_pred))\n",
    "\n",
    "# print(\"Performance Matrix:\")\n",
    "# print(classification_report(y, y_pred))"
   ]
  },
  {
   "cell_type": "markdown",
   "metadata": {},
   "source": [
    "## **K-Nearest Neighbors (KNN)**"
   ]
  },
  {
   "cell_type": "code",
   "execution_count": null,
   "metadata": {
    "execution": {
     "iopub.execute_input": "2023-05-26T20:03:11.793022Z",
     "iopub.status.busy": "2023-05-26T20:03:11.792180Z",
     "iopub.status.idle": "2023-05-26T20:03:11.803474Z",
     "shell.execute_reply": "2023-05-26T20:03:11.802495Z",
     "shell.execute_reply.started": "2023-05-26T20:03:11.792965Z"
    }
   },
   "outputs": [],
   "source": [
    "# %%time\n",
    "# # create a KNN model\n",
    "# knn = KNeighborsClassifier()\n",
    "\n",
    "# # predict\n",
    "# y_pred = cross_val_predict(knn, X, y, cv=kf)\n",
    "\n",
    "# print (\"KNN\")\n",
    "# # generate report\n",
    "# print(\"Confusion Matrix:\")\n",
    "# print(confusion_matrix(y, y_pred))\n",
    "\n",
    "# print(\"Performance Matrix:\")\n",
    "# print(classification_report(y, y_pred))"
   ]
  },
  {
   "cell_type": "markdown",
   "metadata": {},
   "source": [
    "## **Gaussian Naive Bayes**"
   ]
  },
  {
   "cell_type": "code",
   "execution_count": null,
   "metadata": {
    "execution": {
     "iopub.execute_input": "2023-05-26T20:03:11.806193Z",
     "iopub.status.busy": "2023-05-26T20:03:11.805822Z",
     "iopub.status.idle": "2023-05-26T20:03:11.818278Z",
     "shell.execute_reply": "2023-05-26T20:03:11.817208Z",
     "shell.execute_reply.started": "2023-05-26T20:03:11.806163Z"
    }
   },
   "outputs": [],
   "source": [
    "# %%time\n",
    "# # create a Gaussian Naive Bayes model\n",
    "# gnb = GaussianNB()\n",
    "\n",
    "# # predict\n",
    "# y_pred = cross_val_predict(gnb, X, y, cv=kf)\n",
    "\n",
    "# print (\"Gaussian Naive Bayes\")\n",
    "# # generate report\n",
    "# print(\"Confusion Matrix:\")\n",
    "# print(confusion_matrix(y, y_pred))\n",
    "\n",
    "# print(\"Performance Matrix:\")\n",
    "# print(classification_report(y, y_pred))"
   ]
  },
  {
   "cell_type": "markdown",
   "metadata": {},
   "source": [
    "## **Support Vector Classifier (SVC)**"
   ]
  },
  {
   "cell_type": "code",
   "execution_count": null,
   "metadata": {
    "execution": {
     "iopub.execute_input": "2023-05-26T20:03:11.821174Z",
     "iopub.status.busy": "2023-05-26T20:03:11.820359Z",
     "iopub.status.idle": "2023-05-26T20:03:11.833838Z",
     "shell.execute_reply": "2023-05-26T20:03:11.832260Z",
     "shell.execute_reply.started": "2023-05-26T20:03:11.821133Z"
    }
   },
   "outputs": [],
   "source": [
    "# %%time\n",
    "# # create a SVC model\n",
    "# svc = SVC()\n",
    "\n",
    "# # predict\n",
    "# y_pred = cross_val_predict(svc, X, y, cv=kf)\n",
    "\n",
    "# print (\"Support Vector Classifier\")\n",
    "# # generate report\n",
    "# print(\"Confusion Matrix:\")\n",
    "# print(confusion_matrix(y, y_pred))\n",
    "\n",
    "# print(\"Performance Matrix:\")\n",
    "# print(classification_report(y, y_pred))"
   ]
  },
  {
   "cell_type": "markdown",
   "metadata": {},
   "source": [
    "# **Explainable Artificial Intelligence (XAI)**"
   ]
  },
  {
   "cell_type": "markdown",
   "metadata": {},
   "source": [
    "### **Split Data**"
   ]
  },
  {
   "cell_type": "code",
   "execution_count": null,
   "metadata": {
    "execution": {
     "iopub.execute_input": "2023-05-26T20:03:11.836384Z",
     "iopub.status.busy": "2023-05-26T20:03:11.835355Z",
     "iopub.status.idle": "2023-05-26T20:03:12.769120Z",
     "shell.execute_reply": "2023-05-26T20:03:12.768013Z",
     "shell.execute_reply.started": "2023-05-26T20:03:11.836339Z"
    }
   },
   "outputs": [],
   "source": [
    "X=network_data_d1.drop([\"Label\"], axis=1)\n",
    "y=network_data_d1[\"Label\"]\n",
    "\n",
    "# split the data for evaluation\n",
    "X_train, X_test, y_train, y_test = train_test_split(X, y, test_size=.1, random_state =42, shuffle=True)\n",
    "\n",
    "# K-fold\n",
    "# kf = KFold(n_splits=10, shuffle=True, random_state=42)"
   ]
  },
  {
   "cell_type": "markdown",
   "metadata": {},
   "source": [
    "## **Classifier Model**"
   ]
  },
  {
   "cell_type": "markdown",
   "metadata": {},
   "source": [
    "### **Decision Tree**"
   ]
  },
  {
   "cell_type": "code",
   "execution_count": null,
   "metadata": {
    "execution": {
     "iopub.execute_input": "2023-05-26T20:03:12.771158Z",
     "iopub.status.busy": "2023-05-26T20:03:12.770701Z",
     "iopub.status.idle": "2023-05-26T20:03:19.382302Z",
     "shell.execute_reply": "2023-05-26T20:03:19.381030Z",
     "shell.execute_reply.started": "2023-05-26T20:03:12.771117Z"
    }
   },
   "outputs": [],
   "source": [
    "dtc = DecisionTreeClassifier()\n",
    "dtc.fit(X_train, y_train)\n",
    "y_pred = dtc.predict(X_test)\n",
    "cr = classification_report(y_test, y_pred)\n",
    "print(cr)"
   ]
  },
  {
   "cell_type": "code",
   "execution_count": null,
   "metadata": {
    "execution": {
     "iopub.execute_input": "2023-05-26T23:35:36.751636Z",
     "iopub.status.busy": "2023-05-26T23:35:36.751140Z",
     "iopub.status.idle": "2023-05-26T23:35:36.761426Z",
     "shell.execute_reply": "2023-05-26T23:35:36.760166Z",
     "shell.execute_reply.started": "2023-05-26T23:35:36.751600Z"
    }
   },
   "outputs": [],
   "source": [
    "# Save the model\n",
    "with open('model.pkl', 'wb') as file:\n",
    "    pickle.dump(dtc, file)\n",
    "\n",
    "# # Load the model\n",
    "# with open('model.pkl', 'rb') as file:\n",
    "#     loaded_model = pickle.load(file)"
   ]
  },
  {
   "cell_type": "markdown",
   "metadata": {},
   "source": [
    "## **LIME**"
   ]
  },
  {
   "cell_type": "code",
   "execution_count": null,
   "metadata": {
    "execution": {
     "iopub.execute_input": "2023-05-26T20:46:50.689662Z",
     "iopub.status.busy": "2023-05-26T20:46:50.689131Z",
     "iopub.status.idle": "2023-05-26T20:47:14.972391Z",
     "shell.execute_reply": "2023-05-26T20:47:14.970477Z",
     "shell.execute_reply.started": "2023-05-26T20:46:50.689621Z"
    }
   },
   "outputs": [],
   "source": [
    "test_sample = X_test.iloc[0, :]\n",
    "explainer = lime.lime_tabular.LimeTabularExplainer(X_train.values, feature_names=X.columns.tolist(), verbose=True, mode='classification')\n",
    "exp = explainer.explain_instance(test_sample.values, dtc.predict_proba)\n",
    "exp.show_in_notebook()"
   ]
  },
  {
   "cell_type": "code",
   "execution_count": null,
   "metadata": {
    "execution": {
     "iopub.execute_input": "2023-05-26T20:03:43.635306Z",
     "iopub.status.busy": "2023-05-26T20:03:43.634700Z",
     "iopub.status.idle": "2023-05-26T20:03:43.639729Z",
     "shell.execute_reply": "2023-05-26T20:03:43.638756Z",
     "shell.execute_reply.started": "2023-05-26T20:03:43.635271Z"
    }
   },
   "outputs": [],
   "source": [
    "# lime = LimeTabular(data=X_train, random_state=1, model = dtc)\n",
    "# lime_local = lime.explain_local(X_test[-5:], y_test[-5:], name='LIME')\n",
    "\n",
    "# show(lime_local)"
   ]
  },
  {
   "cell_type": "markdown",
   "metadata": {},
   "source": [
    "## **GSM (IDT)**"
   ]
  },
  {
   "cell_type": "code",
   "execution_count": null,
   "metadata": {
    "execution": {
     "iopub.execute_input": "2023-05-26T21:24:18.271265Z",
     "iopub.status.busy": "2023-05-26T21:24:18.270787Z",
     "iopub.status.idle": "2023-05-26T21:24:18.593336Z",
     "shell.execute_reply": "2023-05-26T21:24:18.592010Z",
     "shell.execute_reply.started": "2023-05-26T21:24:18.271232Z"
    }
   },
   "outputs": [],
   "source": [
    "dt = DecisionTreeClassifier()\n",
    "dt.fit(X_test, y_pred)"
   ]
  },
  {
   "cell_type": "code",
   "execution_count": null,
   "metadata": {
    "execution": {
     "iopub.execute_input": "2023-05-26T21:28:59.782088Z",
     "iopub.status.busy": "2023-05-26T21:28:59.781551Z",
     "iopub.status.idle": "2023-05-26T21:29:00.042808Z",
     "shell.execute_reply": "2023-05-26T21:29:00.041821Z",
     "shell.execute_reply.started": "2023-05-26T21:28:59.782052Z"
    }
   },
   "outputs": [],
   "source": [
    "dot_data = tree.export_graphviz(dt, out_file=None, feature_names=X.columns, class_names=[\"0\", \"1\"], filled=True)\n",
    "graph = graphviz.Source(dot_data)\n",
    "graph.render(\"induced_dt_tree_view\")\n",
    "graph"
   ]
  },
  {
   "cell_type": "markdown",
   "metadata": {},
   "source": [
    "## **SHAP**"
   ]
  },
  {
   "cell_type": "code",
   "execution_count": null,
   "metadata": {
    "execution": {
     "iopub.execute_input": "2023-05-26T20:03:43.643874Z",
     "iopub.status.busy": "2023-05-26T20:03:43.642824Z",
     "iopub.status.idle": "2023-05-26T20:03:44.531933Z",
     "shell.execute_reply": "2023-05-26T20:03:44.530698Z",
     "shell.execute_reply.started": "2023-05-26T20:03:43.643836Z"
    }
   },
   "outputs": [],
   "source": [
    "explainer = shap.Explainer(dtc)\n",
    "shap_values = explainer.shap_values(X_test)\n",
    "shap.summary_plot(shap_values, X_test, plot_type='bar')\n",
    "plt.show()\n"
   ]
  }
 ],
 "metadata": {
  "kernelspec": {
   "display_name": "Python 3 (ipykernel)",
   "language": "python",
   "name": "python3"
  },
  "language_info": {
   "codemirror_mode": {
    "name": "ipython",
    "version": 3
   },
   "file_extension": ".py",
   "mimetype": "text/x-python",
   "name": "python",
   "nbconvert_exporter": "python",
   "pygments_lexer": "ipython3",
   "version": "3.9.13"
  }
 },
 "nbformat": 4,
 "nbformat_minor": 4
}
